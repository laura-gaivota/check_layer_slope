{
 "cells": [
  {
   "cell_type": "code",
   "execution_count": null,
   "metadata": {},
   "outputs": [],
   "source": [
    "import os\n",
    "import glob\n",
    "import geopandas as gpd\n",
    "import pandas as pd\n",
    "import boto3\n",
    "from .src import s3\n",
    "BUCKET = os.environ.get(\"BUCKET\")\n",
    "ACCES_KEY = os.environ.get(\"ACCES_KEY\")\n",
    "SECRET_KEY = os.environ.get(\"SECRET_KEY\")\n",
    "BASE_PATH_SC = os.environ.get(\"BASE_PATH_SC\")"
   ]
  },
  {
   "cell_type": "code",
   "execution_count": null,
   "metadata": {},
   "outputs": [],
   "source": [
    "output_path = \"s3://gaivota-data-science/soil_type/BR/out_regoes_all_d/\"\n",
    "bucket_files = s3.get_bucket_files(BUCKET, ACCES_KEY, SECRET_KEY, output_path)\n",
    "bucket_files"
   ]
  },
  {
   "cell_type": "code",
   "execution_count": null,
   "metadata": {},
   "outputs": [],
   "source": []
  }
 ],
 "metadata": {
  "language_info": {
   "name": "python"
  },
  "orig_nbformat": 4
 },
 "nbformat": 4,
 "nbformat_minor": 2
}
